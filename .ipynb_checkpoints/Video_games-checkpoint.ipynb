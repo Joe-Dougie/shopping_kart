{
 "cells": [
  {
   "cell_type": "code",
   "execution_count": 3,
   "id": "92651e69",
   "metadata": {
    "scrolled": true
   },
   "outputs": [],
   "source": [
    "def videogame():\n",
    "    videogames_list = []\n",
    "    \n",
    "    done = False \n",
    "    while not done:\n",
    "        decision = input(\"Would you like to add a game? Y/N? \").lower()\n",
    "        \n",
    "        if decision == 'y':\n",
    "            \n",
    "            name = input(\"What is the name of the game?\")\n",
    "            \n",
    "            console = input(\"For what system would it be for?\")\n",
    "            \n",
    "            person_dict = {\n",
    "                'name' : name,\n",
    "                'system' : console,\n",
    "            }\n",
    "            \n",
    "            videogames_list.append(person_dict)\n",
    "            \n",
    "        elif decision == 'n':\n",
    "            \n",
    "            done = True\n",
    "            \n",
    "    print(videogames_list)\n",
    "    \n",
    "videogame()"
   ]
  },
  {
   "cell_type": "code",
   "execution_count": 1,
   "id": "47e80b7b",
   "metadata": {},
   "outputs": [
    {
     "name": "stdout",
     "output_type": "stream",
     "text": [
      "Type 'add' to add item to your kart.\n",
      "Type 'remove' to remove item from your kart.\n",
      "Type 'restart' to restart.\n",
      "Type 'exit' to exit the kart.\n",
      "What would you like to do? exit\n"
     ]
    }
   ],
   "source": [
    "def show_rules():\n",
    "    print(\"\"\"Type 'add' to add item to your kart.\n",
    "Type 'remove' to remove item from your kart.\n",
    "Type 'restart' to restart.\n",
    "Type 'exit' to exit the kart.\"\"\")\n",
    "    \n",
    "def add_item(shopping_kart, item):\n",
    "    shopping_kart.append(item)\n",
    "\n",
    "def remove_item(shopping_kart, item):\n",
    "    shopping_kart.remove(item)\n",
    "    \n",
    "def restart(shopping_kart):\n",
    "    shopping_kart.restart()\n",
    "\n",
    "def shopping_kart():\n",
    "    kart = []\n",
    "    \n",
    "    \n",
    "    done = False\n",
    "    while not done:\n",
    "        \n",
    "        show_rules()\n",
    "        \n",
    "        decision = input('What would you like to do? ').lower()\n",
    "        if decision == 'exit':\n",
    "            done = True\n",
    "        elif decision == 'add':\n",
    "            item_to_add = input(\"What item would you like to add? \").lower()\n",
    "            add_item(kart, item_to_add)\n",
    "        elif decision == 'remove':\n",
    "            item_to_remove = input(\"What item would you like to remove? \").lower()\n",
    "            if item_to_remove not in kart:\n",
    "                input(\"That item does not exist. Try again.\")\n",
    "                continue\n",
    "            else:\n",
    "                remove_item(kart, item_to_remove)\n",
    "        elif decision == 'restart':\n",
    "            restart(kart)\n",
    "        else:\n",
    "            input(\"That was an invalid command. Please try again.\")\n",
    "\n",
    "shopping_kart()"
   ]
  }
 ],
 "metadata": {
  "kernelspec": {
   "display_name": "Python 3 (ipykernel)",
   "language": "python",
   "name": "python3"
  },
  "language_info": {
   "codemirror_mode": {
    "name": "ipython",
    "version": 3
   },
   "file_extension": ".py",
   "mimetype": "text/x-python",
   "name": "python",
   "nbconvert_exporter": "python",
   "pygments_lexer": "ipython3",
   "version": "3.9.7"
  }
 },
 "nbformat": 4,
 "nbformat_minor": 5
}
